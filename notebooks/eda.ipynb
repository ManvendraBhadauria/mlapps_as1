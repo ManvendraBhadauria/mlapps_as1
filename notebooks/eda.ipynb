{
 "cells": [
  {
   "cell_type": "code",
   "execution_count": 4,
   "metadata": {},
   "outputs": [],
   "source": [
    "import pandas as pd\n",
    "import numpy as np"
   ]
  },
  {
   "cell_type": "code",
   "execution_count": 5,
   "metadata": {},
   "outputs": [],
   "source": [
    "df = pd.read_csv(\n",
    "    r\"C:\\Users\\manvendra.bhadau\\Documents\\MLApps Training\\data\\Input_Sales_Data_v2.csv\"\n",
    ")"
   ]
  },
  {
   "cell_type": "code",
   "execution_count": 6,
   "metadata": {},
   "outputs": [
    {
     "name": "stdout",
     "output_type": "stream",
     "text": [
      "<class 'pandas.core.frame.DataFrame'>\n",
      "RangeIndex: 1080339 entries, 0 to 1080338\n",
      "Data columns (total 9 columns):\n",
      " #   Column        Non-Null Count    Dtype  \n",
      "---  ------        --------------    -----  \n",
      " 0   Id            1080339 non-null  int64  \n",
      " 1   Date          1080339 non-null  object \n",
      " 2   Manufacturer  1080339 non-null  object \n",
      " 3   Category      1080339 non-null  object \n",
      " 4   Brand         1080339 non-null  object \n",
      " 5   SKU Name      1080339 non-null  object \n",
      " 6   Volume        1080339 non-null  float64\n",
      " 7   Value         1080339 non-null  float64\n",
      " 8   Price         790235 non-null   float64\n",
      "dtypes: float64(3), int64(1), object(5)\n",
      "memory usage: 74.2+ MB\n"
     ]
    }
   ],
   "source": [
    "df.info()"
   ]
  },
  {
   "cell_type": "code",
   "execution_count": 7,
   "metadata": {},
   "outputs": [
    {
     "data": {
      "text/html": [
       "<div>\n",
       "<style scoped>\n",
       "    .dataframe tbody tr th:only-of-type {\n",
       "        vertical-align: middle;\n",
       "    }\n",
       "\n",
       "    .dataframe tbody tr th {\n",
       "        vertical-align: top;\n",
       "    }\n",
       "\n",
       "    .dataframe thead th {\n",
       "        text-align: right;\n",
       "    }\n",
       "</style>\n",
       "<table border=\"1\" class=\"dataframe\">\n",
       "  <thead>\n",
       "    <tr style=\"text-align: right;\">\n",
       "      <th></th>\n",
       "      <th>Id</th>\n",
       "      <th>Date</th>\n",
       "      <th>Manufacturer</th>\n",
       "      <th>Category</th>\n",
       "      <th>Brand</th>\n",
       "      <th>SKU Name</th>\n",
       "      <th>Volume</th>\n",
       "      <th>Value</th>\n",
       "      <th>Price</th>\n",
       "    </tr>\n",
       "  </thead>\n",
       "  <tbody>\n",
       "    <tr>\n",
       "      <th>0</th>\n",
       "      <td>0</td>\n",
       "      <td>2022-06-18</td>\n",
       "      <td>Manufacturer_59</td>\n",
       "      <td>Category_0</td>\n",
       "      <td>Brand_241</td>\n",
       "      <td>SKU Name_520</td>\n",
       "      <td>10.0</td>\n",
       "      <td>270.0</td>\n",
       "      <td>27.000000</td>\n",
       "    </tr>\n",
       "    <tr>\n",
       "      <th>1</th>\n",
       "      <td>1</td>\n",
       "      <td>2021-06-19</td>\n",
       "      <td>Manufacturer_59</td>\n",
       "      <td>Category_0</td>\n",
       "      <td>Brand_241</td>\n",
       "      <td>SKU Name_520</td>\n",
       "      <td>0.0</td>\n",
       "      <td>40.0</td>\n",
       "      <td>NaN</td>\n",
       "    </tr>\n",
       "    <tr>\n",
       "      <th>2</th>\n",
       "      <td>3</td>\n",
       "      <td>2022-11-19</td>\n",
       "      <td>Manufacturer_59</td>\n",
       "      <td>Category_0</td>\n",
       "      <td>Brand_241</td>\n",
       "      <td>SKU Name_520</td>\n",
       "      <td>10470.0</td>\n",
       "      <td>242390.0</td>\n",
       "      <td>23.150907</td>\n",
       "    </tr>\n",
       "    <tr>\n",
       "      <th>3</th>\n",
       "      <td>5</td>\n",
       "      <td>2021-12-18</td>\n",
       "      <td>Manufacturer_59</td>\n",
       "      <td>Category_0</td>\n",
       "      <td>Brand_241</td>\n",
       "      <td>SKU Name_520</td>\n",
       "      <td>5620.0</td>\n",
       "      <td>105190.0</td>\n",
       "      <td>18.717082</td>\n",
       "    </tr>\n",
       "    <tr>\n",
       "      <th>4</th>\n",
       "      <td>7</td>\n",
       "      <td>2022-12-17</td>\n",
       "      <td>Manufacturer_59</td>\n",
       "      <td>Category_0</td>\n",
       "      <td>Brand_241</td>\n",
       "      <td>SKU Name_520</td>\n",
       "      <td>30.0</td>\n",
       "      <td>350.0</td>\n",
       "      <td>11.666667</td>\n",
       "    </tr>\n",
       "  </tbody>\n",
       "</table>\n",
       "</div>"
      ],
      "text/plain": [
       "   Id        Date     Manufacturer    Category      Brand      SKU Name  \\\n",
       "0   0  2022-06-18  Manufacturer_59  Category_0  Brand_241  SKU Name_520   \n",
       "1   1  2021-06-19  Manufacturer_59  Category_0  Brand_241  SKU Name_520   \n",
       "2   3  2022-11-19  Manufacturer_59  Category_0  Brand_241  SKU Name_520   \n",
       "3   5  2021-12-18  Manufacturer_59  Category_0  Brand_241  SKU Name_520   \n",
       "4   7  2022-12-17  Manufacturer_59  Category_0  Brand_241  SKU Name_520   \n",
       "\n",
       "    Volume     Value      Price  \n",
       "0     10.0     270.0  27.000000  \n",
       "1      0.0      40.0        NaN  \n",
       "2  10470.0  242390.0  23.150907  \n",
       "3   5620.0  105190.0  18.717082  \n",
       "4     30.0     350.0  11.666667  "
      ]
     },
     "execution_count": 7,
     "metadata": {},
     "output_type": "execute_result"
    }
   ],
   "source": [
    "df.head()"
   ]
  },
  {
   "cell_type": "code",
   "execution_count": 8,
   "metadata": {},
   "outputs": [
    {
     "data": {
      "text/plain": [
       "(290104, 9)"
      ]
     },
     "execution_count": 8,
     "metadata": {},
     "output_type": "execute_result"
    }
   ],
   "source": [
    "df.loc[df[\"Price\"].isnull()].shape"
   ]
  },
  {
   "cell_type": "code",
   "execution_count": 9,
   "metadata": {},
   "outputs": [
    {
     "data": {
      "text/plain": [
       "(290104, 9)"
      ]
     },
     "execution_count": 9,
     "metadata": {},
     "output_type": "execute_result"
    }
   ],
   "source": [
    "df.loc[df[\"Volume\"] == 0].shape"
   ]
  },
  {
   "cell_type": "code",
   "execution_count": 10,
   "metadata": {},
   "outputs": [],
   "source": [
    "df = df.dropna(subset=[\"Price\"])"
   ]
  },
  {
   "cell_type": "code",
   "execution_count": 11,
   "metadata": {},
   "outputs": [
    {
     "data": {
      "text/html": [
       "<div>\n",
       "<style scoped>\n",
       "    .dataframe tbody tr th:only-of-type {\n",
       "        vertical-align: middle;\n",
       "    }\n",
       "\n",
       "    .dataframe tbody tr th {\n",
       "        vertical-align: top;\n",
       "    }\n",
       "\n",
       "    .dataframe thead th {\n",
       "        text-align: right;\n",
       "    }\n",
       "</style>\n",
       "<table border=\"1\" class=\"dataframe\">\n",
       "  <thead>\n",
       "    <tr style=\"text-align: right;\">\n",
       "      <th></th>\n",
       "      <th>Id</th>\n",
       "      <th>Date</th>\n",
       "      <th>Manufacturer</th>\n",
       "      <th>Category</th>\n",
       "      <th>Brand</th>\n",
       "      <th>SKU Name</th>\n",
       "      <th>Volume</th>\n",
       "      <th>Value</th>\n",
       "      <th>Price</th>\n",
       "    </tr>\n",
       "  </thead>\n",
       "  <tbody>\n",
       "    <tr>\n",
       "      <th>0</th>\n",
       "      <td>0</td>\n",
       "      <td>2022-06-18</td>\n",
       "      <td>Manufacturer_59</td>\n",
       "      <td>Category_0</td>\n",
       "      <td>Brand_241</td>\n",
       "      <td>SKU Name_520</td>\n",
       "      <td>10.0</td>\n",
       "      <td>270.0</td>\n",
       "      <td>27.000000</td>\n",
       "    </tr>\n",
       "    <tr>\n",
       "      <th>2</th>\n",
       "      <td>3</td>\n",
       "      <td>2022-11-19</td>\n",
       "      <td>Manufacturer_59</td>\n",
       "      <td>Category_0</td>\n",
       "      <td>Brand_241</td>\n",
       "      <td>SKU Name_520</td>\n",
       "      <td>10470.0</td>\n",
       "      <td>242390.0</td>\n",
       "      <td>23.150907</td>\n",
       "    </tr>\n",
       "    <tr>\n",
       "      <th>3</th>\n",
       "      <td>5</td>\n",
       "      <td>2021-12-18</td>\n",
       "      <td>Manufacturer_59</td>\n",
       "      <td>Category_0</td>\n",
       "      <td>Brand_241</td>\n",
       "      <td>SKU Name_520</td>\n",
       "      <td>5620.0</td>\n",
       "      <td>105190.0</td>\n",
       "      <td>18.717082</td>\n",
       "    </tr>\n",
       "    <tr>\n",
       "      <th>4</th>\n",
       "      <td>7</td>\n",
       "      <td>2022-12-17</td>\n",
       "      <td>Manufacturer_59</td>\n",
       "      <td>Category_0</td>\n",
       "      <td>Brand_241</td>\n",
       "      <td>SKU Name_520</td>\n",
       "      <td>30.0</td>\n",
       "      <td>350.0</td>\n",
       "      <td>11.666667</td>\n",
       "    </tr>\n",
       "    <tr>\n",
       "      <th>5</th>\n",
       "      <td>8</td>\n",
       "      <td>2022-04-30</td>\n",
       "      <td>Manufacturer_59</td>\n",
       "      <td>Category_0</td>\n",
       "      <td>Brand_241</td>\n",
       "      <td>SKU Name_520</td>\n",
       "      <td>600.0</td>\n",
       "      <td>8420.0</td>\n",
       "      <td>14.033333</td>\n",
       "    </tr>\n",
       "    <tr>\n",
       "      <th>...</th>\n",
       "      <td>...</td>\n",
       "      <td>...</td>\n",
       "      <td>...</td>\n",
       "      <td>...</td>\n",
       "      <td>...</td>\n",
       "      <td>...</td>\n",
       "      <td>...</td>\n",
       "      <td>...</td>\n",
       "      <td>...</td>\n",
       "    </tr>\n",
       "    <tr>\n",
       "      <th>1080330</th>\n",
       "      <td>3351886</td>\n",
       "      <td>2022-11-05</td>\n",
       "      <td>Manufacturer_96</td>\n",
       "      <td>Category_1</td>\n",
       "      <td>Brand_115</td>\n",
       "      <td>SKU Name_5974</td>\n",
       "      <td>10.0</td>\n",
       "      <td>820.0</td>\n",
       "      <td>82.000000</td>\n",
       "    </tr>\n",
       "    <tr>\n",
       "      <th>1080331</th>\n",
       "      <td>3351887</td>\n",
       "      <td>2022-11-12</td>\n",
       "      <td>Manufacturer_96</td>\n",
       "      <td>Category_1</td>\n",
       "      <td>Brand_115</td>\n",
       "      <td>SKU Name_5974</td>\n",
       "      <td>10.0</td>\n",
       "      <td>380.0</td>\n",
       "      <td>38.000000</td>\n",
       "    </tr>\n",
       "    <tr>\n",
       "      <th>1080333</th>\n",
       "      <td>3351889</td>\n",
       "      <td>2022-11-26</td>\n",
       "      <td>Manufacturer_96</td>\n",
       "      <td>Category_1</td>\n",
       "      <td>Brand_115</td>\n",
       "      <td>SKU Name_5974</td>\n",
       "      <td>10.0</td>\n",
       "      <td>340.0</td>\n",
       "      <td>34.000000</td>\n",
       "    </tr>\n",
       "    <tr>\n",
       "      <th>1080334</th>\n",
       "      <td>3351890</td>\n",
       "      <td>2022-12-03</td>\n",
       "      <td>Manufacturer_96</td>\n",
       "      <td>Category_1</td>\n",
       "      <td>Brand_115</td>\n",
       "      <td>SKU Name_5974</td>\n",
       "      <td>10.0</td>\n",
       "      <td>300.0</td>\n",
       "      <td>30.000000</td>\n",
       "    </tr>\n",
       "    <tr>\n",
       "      <th>1080337</th>\n",
       "      <td>3351893</td>\n",
       "      <td>2022-12-24</td>\n",
       "      <td>Manufacturer_96</td>\n",
       "      <td>Category_1</td>\n",
       "      <td>Brand_115</td>\n",
       "      <td>SKU Name_5974</td>\n",
       "      <td>10.0</td>\n",
       "      <td>750.0</td>\n",
       "      <td>75.000000</td>\n",
       "    </tr>\n",
       "  </tbody>\n",
       "</table>\n",
       "<p>790235 rows × 9 columns</p>\n",
       "</div>"
      ],
      "text/plain": [
       "              Id        Date     Manufacturer    Category      Brand  \\\n",
       "0              0  2022-06-18  Manufacturer_59  Category_0  Brand_241   \n",
       "2              3  2022-11-19  Manufacturer_59  Category_0  Brand_241   \n",
       "3              5  2021-12-18  Manufacturer_59  Category_0  Brand_241   \n",
       "4              7  2022-12-17  Manufacturer_59  Category_0  Brand_241   \n",
       "5              8  2022-04-30  Manufacturer_59  Category_0  Brand_241   \n",
       "...          ...         ...              ...         ...        ...   \n",
       "1080330  3351886  2022-11-05  Manufacturer_96  Category_1  Brand_115   \n",
       "1080331  3351887  2022-11-12  Manufacturer_96  Category_1  Brand_115   \n",
       "1080333  3351889  2022-11-26  Manufacturer_96  Category_1  Brand_115   \n",
       "1080334  3351890  2022-12-03  Manufacturer_96  Category_1  Brand_115   \n",
       "1080337  3351893  2022-12-24  Manufacturer_96  Category_1  Brand_115   \n",
       "\n",
       "              SKU Name   Volume     Value      Price  \n",
       "0         SKU Name_520     10.0     270.0  27.000000  \n",
       "2         SKU Name_520  10470.0  242390.0  23.150907  \n",
       "3         SKU Name_520   5620.0  105190.0  18.717082  \n",
       "4         SKU Name_520     30.0     350.0  11.666667  \n",
       "5         SKU Name_520    600.0    8420.0  14.033333  \n",
       "...                ...      ...       ...        ...  \n",
       "1080330  SKU Name_5974     10.0     820.0  82.000000  \n",
       "1080331  SKU Name_5974     10.0     380.0  38.000000  \n",
       "1080333  SKU Name_5974     10.0     340.0  34.000000  \n",
       "1080334  SKU Name_5974     10.0     300.0  30.000000  \n",
       "1080337  SKU Name_5974     10.0     750.0  75.000000  \n",
       "\n",
       "[790235 rows x 9 columns]"
      ]
     },
     "execution_count": 11,
     "metadata": {},
     "output_type": "execute_result"
    }
   ],
   "source": [
    "df"
   ]
  },
  {
   "cell_type": "code",
   "execution_count": 12,
   "metadata": {},
   "outputs": [
    {
     "data": {
      "text/plain": [
       "(0, 9)"
      ]
     },
     "execution_count": 12,
     "metadata": {},
     "output_type": "execute_result"
    }
   ],
   "source": [
    "df.loc[df[\"Price\"].isnull()].shape"
   ]
  },
  {
   "cell_type": "code",
   "execution_count": 13,
   "metadata": {},
   "outputs": [
    {
     "data": {
      "text/plain": [
       "(0, 9)"
      ]
     },
     "execution_count": 13,
     "metadata": {},
     "output_type": "execute_result"
    }
   ],
   "source": [
    "df.loc[df[\"Volume\"] == 0].shape"
   ]
  },
  {
   "cell_type": "code",
   "execution_count": 14,
   "metadata": {},
   "outputs": [],
   "source": [
    "df[\"Date\"] = pd.to_datetime(df[\"Date\"])"
   ]
  },
  {
   "cell_type": "code",
   "execution_count": 15,
   "metadata": {},
   "outputs": [
    {
     "data": {
      "text/html": [
       "<div>\n",
       "<style scoped>\n",
       "    .dataframe tbody tr th:only-of-type {\n",
       "        vertical-align: middle;\n",
       "    }\n",
       "\n",
       "    .dataframe tbody tr th {\n",
       "        vertical-align: top;\n",
       "    }\n",
       "\n",
       "    .dataframe thead th {\n",
       "        text-align: right;\n",
       "    }\n",
       "</style>\n",
       "<table border=\"1\" class=\"dataframe\">\n",
       "  <thead>\n",
       "    <tr style=\"text-align: right;\">\n",
       "      <th></th>\n",
       "      <th>Id</th>\n",
       "      <th>Date</th>\n",
       "      <th>Volume</th>\n",
       "      <th>Value</th>\n",
       "      <th>Price</th>\n",
       "    </tr>\n",
       "  </thead>\n",
       "  <tbody>\n",
       "    <tr>\n",
       "      <th>count</th>\n",
       "      <td>7.902350e+05</td>\n",
       "      <td>790235</td>\n",
       "      <td>7.902350e+05</td>\n",
       "      <td>7.902350e+05</td>\n",
       "      <td>7.902350e+05</td>\n",
       "    </tr>\n",
       "    <tr>\n",
       "      <th>mean</th>\n",
       "      <td>1.650888e+06</td>\n",
       "      <td>2021-12-29 12:48:54.922396160</td>\n",
       "      <td>7.592682e+09</td>\n",
       "      <td>6.327276e+09</td>\n",
       "      <td>1.322967e+08</td>\n",
       "    </tr>\n",
       "    <tr>\n",
       "      <th>min</th>\n",
       "      <td>0.000000e+00</td>\n",
       "      <td>2021-01-02 00:00:00</td>\n",
       "      <td>1.000000e+01</td>\n",
       "      <td>0.000000e+00</td>\n",
       "      <td>0.000000e+00</td>\n",
       "    </tr>\n",
       "    <tr>\n",
       "      <th>25%</th>\n",
       "      <td>7.895735e+05</td>\n",
       "      <td>2021-06-26 00:00:00</td>\n",
       "      <td>2.000000e+01</td>\n",
       "      <td>5.300000e+02</td>\n",
       "      <td>9.667870e+00</td>\n",
       "    </tr>\n",
       "    <tr>\n",
       "      <th>50%</th>\n",
       "      <td>1.636634e+06</td>\n",
       "      <td>2022-01-01 00:00:00</td>\n",
       "      <td>1.200000e+02</td>\n",
       "      <td>2.120000e+03</td>\n",
       "      <td>1.766667e+01</td>\n",
       "    </tr>\n",
       "    <tr>\n",
       "      <th>75%</th>\n",
       "      <td>2.469768e+06</td>\n",
       "      <td>2022-06-25 00:00:00</td>\n",
       "      <td>9.600000e+02</td>\n",
       "      <td>1.404000e+04</td>\n",
       "      <td>3.016667e+01</td>\n",
       "    </tr>\n",
       "    <tr>\n",
       "      <th>max</th>\n",
       "      <td>3.351893e+06</td>\n",
       "      <td>2022-12-31 00:00:00</td>\n",
       "      <td>1.000000e+15</td>\n",
       "      <td>1.000000e+15</td>\n",
       "      <td>1.000000e+14</td>\n",
       "    </tr>\n",
       "    <tr>\n",
       "      <th>std</th>\n",
       "      <td>9.790478e+05</td>\n",
       "      <td>NaN</td>\n",
       "      <td>2.755473e+12</td>\n",
       "      <td>2.515393e+12</td>\n",
       "      <td>1.126082e+11</td>\n",
       "    </tr>\n",
       "  </tbody>\n",
       "</table>\n",
       "</div>"
      ],
      "text/plain": [
       "                 Id                           Date        Volume  \\\n",
       "count  7.902350e+05                         790235  7.902350e+05   \n",
       "mean   1.650888e+06  2021-12-29 12:48:54.922396160  7.592682e+09   \n",
       "min    0.000000e+00            2021-01-02 00:00:00  1.000000e+01   \n",
       "25%    7.895735e+05            2021-06-26 00:00:00  2.000000e+01   \n",
       "50%    1.636634e+06            2022-01-01 00:00:00  1.200000e+02   \n",
       "75%    2.469768e+06            2022-06-25 00:00:00  9.600000e+02   \n",
       "max    3.351893e+06            2022-12-31 00:00:00  1.000000e+15   \n",
       "std    9.790478e+05                            NaN  2.755473e+12   \n",
       "\n",
       "              Value         Price  \n",
       "count  7.902350e+05  7.902350e+05  \n",
       "mean   6.327276e+09  1.322967e+08  \n",
       "min    0.000000e+00  0.000000e+00  \n",
       "25%    5.300000e+02  9.667870e+00  \n",
       "50%    2.120000e+03  1.766667e+01  \n",
       "75%    1.404000e+04  3.016667e+01  \n",
       "max    1.000000e+15  1.000000e+14  \n",
       "std    2.515393e+12  1.126082e+11  "
      ]
     },
     "execution_count": 15,
     "metadata": {},
     "output_type": "execute_result"
    }
   ],
   "source": [
    "df.describe()"
   ]
  },
  {
   "cell_type": "code",
   "execution_count": null,
   "metadata": {},
   "outputs": [],
   "source": []
  }
 ],
 "metadata": {
  "kernelspec": {
   "display_name": "MLAPPS",
   "language": "python",
   "name": "python3"
  },
  "language_info": {
   "codemirror_mode": {
    "name": "ipython",
    "version": 3
   },
   "file_extension": ".py",
   "mimetype": "text/x-python",
   "name": "python",
   "nbconvert_exporter": "python",
   "pygments_lexer": "ipython3",
   "version": "3.12.0"
  }
 },
 "nbformat": 4,
 "nbformat_minor": 2
}
